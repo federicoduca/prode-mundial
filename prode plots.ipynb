{
 "cells": [
  {
   "cell_type": "code",
   "execution_count": null,
   "id": "0ed56a1e",
   "metadata": {
    "scrolled": true
   },
   "outputs": [],
   "source": [
    "import numpy as np\n",
    "import pandas as pd\n",
    "import math\n",
    "import matplotlib.pyplot as plt\n",
    "import seaborn as sns\n",
    "import gspread as gs\n",
    "import matplotlib\n",
    "rcParamsWhite = {\n",
    "    'axes.edgecolor': 'white',\n",
    "    'axes.labelcolor': 'white',\n",
    "    'axes.titlecolor': 'white',\n",
    "    'xtick.color': 'white',\n",
    "    'ytick.color': 'white',\n",
    "    'font.size': 12,\n",
    "    # 'font.family': 'serif',\n",
    "    # 'text.usetex': True,\n",
    "    # 'pgf.rcfonts': False,\n",
    "}\n",
    "matplotlib.rcParams.update(rcParamsWhite)\n",
    "\n",
    "%matplotlib inline"
   ]
  },
  {
   "cell_type": "code",
   "execution_count": null,
   "id": "11dc2b7e",
   "metadata": {},
   "outputs": [],
   "source": [
    "# cargamos csv\n",
    "df = pd.read_csv('prode - Resumen.csv',skipfooter=2)\n",
    "# removemos columna total si la hay\n",
    "if 'total' in df.columns:\n",
    "    del df['total']\n",
    "# seteamos index al nombre\n",
    "df_puntos = df_orig.set_index('nombre')\n",
    "df_puntos.index.name = None\n",
    "# pivoteamos la data\n",
    "df_puntos = df_puntos.T\n",
    "df_puntos = df_puntos.dropna()\n",
    "# cambiamos index a num\n",
    "df_puntos.index = df_puntos.index.astype('int64')\n",
    "df_puntos.head()"
   ]
  },
  {
   "cell_type": "code",
   "execution_count": null,
   "id": "af659fa9",
   "metadata": {},
   "outputs": [],
   "source": [
    "# guardamos puntos acumulados a la fecha\n",
    "df_puntos_acum = df_puntos.cumsum()"
   ]
  },
  {
   "cell_type": "code",
   "execution_count": null,
   "id": "be0b1eb8",
   "metadata": {
    "scrolled": false
   },
   "outputs": [],
   "source": [
    "# plots\n",
    "plt.figure(figsize=(20,9.5))\n",
    "sns.heatmap(df_puntos_acum.sort_index(ascending=False), cmap='viridis_r', annot=True, cbar=False)\n",
    "plt.ylabel('FECHA')\n",
    "plt.xlabel('JUGADOR')\n",
    "plt.title('Puntaje acumulado en cada fecha')\n",
    "plt.show()"
   ]
  },
  {
   "cell_type": "code",
   "execution_count": null,
   "id": "27b7c56b",
   "metadata": {},
   "outputs": [],
   "source": [
    "import plotly.express as px\n",
    "\n",
    "# para este hace falta hacer melt\n",
    "df_aux = df_puntos_acum.copy()\n",
    "df_aux['fecha'] = df_aux.index\n",
    "df_aux = df_aux.melt(\n",
    "    id_vars='fecha',\n",
    "    var_name='jugador',\n",
    "    value_name='puntos_acum'\n",
    "    )\n",
    "\n",
    "#extract color palette, the palette can be changed\n",
    "list_dist = list(set(df_aux['jugador']))\n",
    "pal = list(sns.color_palette(palette='Spectral',\n",
    "                             n_colors=len(list_dist)).as_hex())\n",
    "dict_color = dict(zip(list_dist, pal))\n",
    "\n",
    "fig = px.bar(\n",
    "    df_aux, \n",
    "    y='jugador', \n",
    "    x='puntos_acum', \n",
    "    animation_frame='fecha',\n",
    "    color='jugador',\n",
    "    color_discrete_map= dict_color,\n",
    "    range_x=[0, df_aux['puntos_acum'].max()],\n",
    "    labels={ 'puntos_acum': 'Puntos acumulados', 'jugador':''},\n",
    ")\n",
    "fig.update_layout(showlegend=False, xaxis = dict(tickmode = 'linear', dtick = 2))\n",
    "fig.update_traces(textangle=90)\n",
    "fig.show()"
   ]
  }
 ],
 "metadata": {
  "kernelspec": {
   "display_name": "Python 3 (ipykernel)",
   "language": "python",
   "name": "python3"
  },
  "language_info": {
   "codemirror_mode": {
    "name": "ipython",
    "version": 3
   },
   "file_extension": ".py",
   "mimetype": "text/x-python",
   "name": "python",
   "nbconvert_exporter": "python",
   "pygments_lexer": "ipython3",
   "version": "3.8.12"
  }
 },
 "nbformat": 4,
 "nbformat_minor": 5
}
